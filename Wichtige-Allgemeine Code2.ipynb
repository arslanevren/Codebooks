{
 "cells": [
  {
   "cell_type": "markdown",
   "id": "b87e80ed",
   "metadata": {},
   "source": [
    "#### .replace()"
   ]
  },
  {
   "cell_type": "raw",
   "id": "10043c2b",
   "metadata": {},
   "source": [
    "df['origin'].replace({'usa':'america'}, inplace=True)"
   ]
  },
  {
   "cell_type": "markdown",
   "id": "ca2cad78",
   "metadata": {},
   "source": [
    "<span style=\"color:red\">alternativ: durch Wertzuweisung</span>"
   ]
  },
  {
   "cell_type": "raw",
   "id": "e13d0565",
   "metadata": {},
   "source": [
    "df.loc[(df['origin']=='usa') , ['origin']] = 'america'"
   ]
  },
  {
   "cell_type": "markdown",
   "id": "ec298a83",
   "metadata": {},
   "source": [
    "#### .loc mit Bedingungen"
   ]
  },
  {
   "cell_type": "raw",
   "id": "5e68cf7b",
   "metadata": {},
   "source": [
    "# pandas loc und python attribute\n",
    "df1.loc[df1.C==2, ['C']] = 8\n",
    "\n",
    "# pandas loc und numPy\n",
    "df1.loc[df1['C']==2,['C']] = 7\n",
    "\n",
    "# pandas loc und pandas loc\n",
    "df1.loc[df1.loc[:,'C']==2, ['C']] = 10\n",
    "\n",
    "#pandas loc und Bedingung in numPy danach - so machen wir das aber nicht!\n",
    "df1.loc[:,['C']][df1['C']==2] = 100\n",
    "\n",
    "df1.iloc[(df1.iloc[:,0]==4) & (df1.iloc[:,1]==8), 2] = 8"
   ]
  },
  {
   "cell_type": "raw",
   "id": "95877b24",
   "metadata": {},
   "source": [
    "df.loc[(df['origin']=='america') & (df['cylinders']>=8)]"
   ]
  },
  {
   "cell_type": "raw",
   "id": "5c5d44d4",
   "metadata": {},
   "source": [
    "df.loc[(df['origin']!='america') & (df['horsepower']>=120) & (df['weight']>3500)]"
   ]
  },
  {
   "cell_type": "raw",
   "id": "7c365fea",
   "metadata": {},
   "source": [
    "df.loc[((df[\"origin\"]=='japan') | (df[\"origin\"]=='europe')) & (df[\"weight\"]>3500) & (df[\"horsepower\"]>=120),:]"
   ]
  },
  {
   "cell_type": "raw",
   "id": "bb655bba",
   "metadata": {},
   "source": [
    "#belli sartlarla belli sütunlar\n",
    "\n",
    "df.loc[(df[\"island\"]==\"Torgersen\")&(df[\"sex\"]==\"Female\"), [\"island\", \"body_mass_g\",\"sex\"]] "
   ]
  },
  {
   "cell_type": "raw",
   "id": "f4650ee7",
   "metadata": {},
   "source": [
    "df1.loc[df1['C']==4,['C']]"
   ]
  },
  {
   "cell_type": "raw",
   "id": "78337513",
   "metadata": {},
   "source": [
    "df1.iloc[(df1.iloc[:,0]==4) & (df1.iloc[:,1]==8), 2] = 8 "
   ]
  },
  {
   "cell_type": "markdown",
   "id": "b719630e",
   "metadata": {},
   "source": [
    "#### .astype()"
   ]
  },
  {
   "cell_type": "code",
   "execution_count": null,
   "id": "3ac875a4",
   "metadata": {},
   "outputs": [],
   "source": [
    "# wir können ein object nicht direkt als int umwandeln  -->\n",
    "# erst umwandeln in float und danach vom float zu int\n",
    "# da astype kein inplace hat, müssen wir über die Wertzuweisung den Datentyp ändern\n",
    "\n",
    "df_autos['Seats'] = df_autos['Seats'].astype('float')"
   ]
  },
  {
   "cell_type": "raw",
   "id": "d660b1dc",
   "metadata": {},
   "source": [
    "df['model_year'] = df['model_year'].astype(str)    # 'U2' oder str  (object funktioniert nicht, da object ein                                                        # Pandas Dtype ist, und laut Doku ein Numpy dtype oder python                                                    # type vorliegen muss)\n",
    "                                                   # object beinhaltet weiterhin die floats und wandelt diese                                                        # nicht in strings um"
   ]
  },
  {
   "cell_type": "raw",
   "id": "8d793f3e",
   "metadata": {},
   "source": [
    "df_mpg['weight'] = df_mpg['weight'].astype(object)\n",
    "\n",
    "df_mpg['weight'].dtype \n",
    "\n",
    "df_mpg.dtypes # ist zwar jetzt ein object, aber object ist wie eine liste in Python und enthält alle Datentypen\n",
    "              # in dem object sind also weiterhin die Zahlen als integers enthalten --> es erfolgt keine Umwandlung in\n",
    "              # strings"
   ]
  },
  {
   "cell_type": "markdown",
   "id": "daaba377",
   "metadata": {},
   "source": [
    "#### .isin() icinde mi"
   ]
  },
  {
   "cell_type": "raw",
   "id": "adadeda0",
   "metadata": {},
   "source": [
    "years = ['70','75','79','82']\n",
    "\n",
    "df.loc[df['model_year'].isin(years)]"
   ]
  },
  {
   "cell_type": "markdown",
   "id": "c1e48a91",
   "metadata": {},
   "source": [
    "#### .rename"
   ]
  },
  {
   "cell_type": "raw",
   "id": "755dcb04",
   "metadata": {},
   "source": [
    "df.rename(columns={'bill_depth_mm': 'flipper_depth_mm'}, inplace=True)"
   ]
  },
  {
   "cell_type": "markdown",
   "id": "ab405045",
   "metadata": {},
   "source": [
    "#### .drop()"
   ]
  },
  {
   "cell_type": "raw",
   "id": "0ecc6b70",
   "metadata": {},
   "source": [
    "df.drop(axis=1, columns=[\"flipper_depth_mm\",\"bill_length_mm\"],inplace=True) "
   ]
  },
  {
   "cell_type": "markdown",
   "id": "f7ed67c9",
   "metadata": {},
   "source": [
    "#### .drop() mit index"
   ]
  },
  {
   "cell_type": "raw",
   "id": "76947386",
   "metadata": {},
   "source": [
    "my_drop_list = df.loc[df[\"species\"]==\"Adelie\",:].index #Ich finde die Indizes der Zeilen, die ich löschen möchte\n",
    "\n",
    "df.drop(index=my_drop_list, inplace=True)"
   ]
  },
  {
   "cell_type": "code",
   "execution_count": null,
   "id": "5c522450",
   "metadata": {},
   "outputs": [],
   "source": [
    "#belli bir index numarasi ile silme\n",
    "\n",
    "df_ecar_opti.drop(index=92, inplace=True)"
   ]
  },
  {
   "cell_type": "markdown",
   "id": "59cda8f3",
   "metadata": {},
   "source": [
    "#### .reset_index()"
   ]
  },
  {
   "cell_type": "code",
   "execution_count": null,
   "id": "c05774b1",
   "metadata": {},
   "outputs": [],
   "source": [
    "df.reset_index(inplace=True)"
   ]
  },
  {
   "cell_type": "markdown",
   "id": "7c20fa6b",
   "metadata": {},
   "source": [
    "#### .dropna()"
   ]
  },
  {
   "cell_type": "raw",
   "id": "bbc0313d",
   "metadata": {},
   "source": [
    "# nur eine bestimmte Spalte\n",
    "\n",
    "df1 = df['A'].dropna()"
   ]
  },
  {
   "cell_type": "raw",
   "id": "1a6c6689",
   "metadata": {},
   "source": [
    "df2 = df.dropna(subset=['A'])"
   ]
  },
  {
   "cell_type": "markdown",
   "id": "2173e6df",
   "metadata": {},
   "source": [
    "<span style=\"color:red\">eksik degeri olan tüm SÜTUNLARI silme </span>"
   ]
  },
  {
   "cell_type": "code",
   "execution_count": null,
   "id": "87b75d57",
   "metadata": {},
   "outputs": [],
   "source": [
    "df2 = df.dropna(axis=1) # tüm eksik degere sahip sütunlari siler"
   ]
  },
  {
   "cell_type": "code",
   "execution_count": null,
   "id": "1f60403d",
   "metadata": {},
   "outputs": [],
   "source": [
    "df2 = df.dropna(axis=0) # tüm eksik degere sahip satirlari siler"
   ]
  },
  {
   "cell_type": "raw",
   "id": "cfbd2323",
   "metadata": {},
   "source": [
    "dropna() löscht also ALLE Reihen/Spalten die auch nur EINEN fehlenden Wert haben komplett.\n",
    "\n",
    "Das kann zum Verlust wertvoller Informationen führen.\n",
    "\n",
    "Daher kann z.B. ausgewählt werden, ob ein bestimmter Anteil behalten werden soll."
   ]
  },
  {
   "cell_type": "raw",
   "id": "4ac3b17d",
   "metadata": {},
   "source": [
    "# all - löscht nur die Spalten/Zeilen (abhängig von der axis), wenn diese komplett aus nan werten besteht\n",
    "\n",
    "df3 = df.dropna(axis='columns', how='all')"
   ]
  },
  {
   "cell_type": "raw",
   "id": "a3bd4590",
   "metadata": {},
   "source": [
    "df_without_col_allnan = df_nan.dropna(axis='index', how='all')"
   ]
  },
  {
   "cell_type": "markdown",
   "id": "c3dce258",
   "metadata": {},
   "source": [
    "#### def null_values()"
   ]
  },
  {
   "cell_type": "raw",
   "id": "65cf5a19",
   "metadata": {},
   "source": [
    "def null_values(x):\n",
    "    a = x.isnull().sum()\n",
    "    b = 100 * x.isnull().sum()/x.shape[0]\n",
    "    nv = pd.concat([a, round(b,2)], axis=1).rename(columns={0:'Missing_Values', 1:'Percentage (%)'})\n",
    "    return nv[nv.Missing_Values>0].sort_values('Missing_Values', ascending=False)"
   ]
  },
  {
   "cell_type": "markdown",
   "id": "9e46185d",
   "metadata": {},
   "source": [
    "#### .crosstab()"
   ]
  },
  {
   "cell_type": "raw",
   "id": "a1e33f90",
   "metadata": {},
   "source": [
    "pd.crosstab(df_autos['Seats'],df_autos['BodyStyle'])"
   ]
  },
  {
   "cell_type": "raw",
   "id": "fb5ece3f",
   "metadata": {},
   "source": [
    "pd.crosstab(df_autos['RapidCharge'], df_autos['FastCharge_KmH'].isnull())"
   ]
  },
  {
   "cell_type": "markdown",
   "id": "b2be5032",
   "metadata": {},
   "source": [
    "#### .index von fehlende Werten"
   ]
  },
  {
   "cell_type": "raw",
   "id": "7e4cc941",
   "metadata": {},
   "source": [
    "# önce bu sütundaki fehlende werte bul. \n",
    "# Sonra bunlarin indexlerine ulas\n",
    "# bu indexleri sil\n",
    "\n",
    "df.loc[df[\"sex\"].isnull(),:]\n",
    "\n",
    "nan_sex = df.loc[df[\"sex\"].isnull(),:].index\n",
    "\n",
    "df.drop(index=nan_sex , inplace=True)"
   ]
  },
  {
   "cell_type": "markdown",
   "id": "71795ebf",
   "metadata": {},
   "source": [
    "#### WERTE AUFFÜLLEN"
   ]
  },
  {
   "cell_type": "raw",
   "id": "28e2e7db",
   "metadata": {},
   "source": [
    "# wir füllen fehlende Werte pauschal mit 666\n",
    "\n",
    "df1 = df.fillna(666)"
   ]
  },
  {
   "cell_type": "raw",
   "id": "533115ef",
   "metadata": {},
   "source": [
    "#durch direkt Wertzuweisung\n",
    "\n",
    "df_ecar.loc[(df_ecar['BodyStyle']=='Hatchback') & (df_ecar['Seats']=='?'), 'Seats'] = '5.0'"
   ]
  },
  {
   "cell_type": "raw",
   "id": "e440d4dc",
   "metadata": {},
   "source": [
    "# for schleife ile\n",
    "\n",
    "for element in frequencies:\n",
    "    df_autos.loc[(df_autos['BodyStyle']==element[0]) & (df_autos['Seats'] == '?'), 'Seats'] = element[1]"
   ]
  },
  {
   "cell_type": "raw",
   "id": "1ff76b4a",
   "metadata": {},
   "source": [
    "# alternativ: schleife alternativ in einem rutsch (ermittlung der werte und ersetzung)\n",
    "\n",
    "missing_types = df_ecar.loc[(df_ecar[\"Seats\"]=='?'), \"BodyStyle\"].unique()\n",
    "\n",
    "for style in missing_types:\n",
    "    max_seats = df_ecar.loc[(df_ecar['BodyStyle']==style), 'Seats'].value_counts().idxmax()\n",
    "    \n",
    "    # alternativ: mit mode() \n",
    "    # max_seats = df_ecar.loc[(df_ecar['BodyStyle']==style), ['Seats']].mode().values\n",
    "    \n",
    "    df_ecar.loc[(df_ecar[\"Seats\"]=='?') & (df_ecar['BodyStyle']==style),[\"Seats\"]] = max_seats"
   ]
  },
  {
   "cell_type": "markdown",
   "id": "49d95704",
   "metadata": {},
   "source": [
    "##### mean ile doldurma"
   ]
  },
  {
   "cell_type": "raw",
   "id": "e35e860e",
   "metadata": {},
   "source": [
    "df_neu_mean = df_neu.replace(np.nan, df_neu.mean())  #beachte: Spaltenweise ersetzung"
   ]
  },
  {
   "cell_type": "markdown",
   "id": "d1ca9de3",
   "metadata": {},
   "source": [
    "##### median ile doldurma"
   ]
  },
  {
   "cell_type": "code",
   "execution_count": null,
   "id": "a55f222d",
   "metadata": {},
   "outputs": [],
   "source": [
    "#median degerini bulma \n",
    "df_ecar.loc[df_ecar['RapidCharge']=='Yes','FastCharge_KmH'].median()"
   ]
  },
  {
   "cell_type": "raw",
   "id": "ba86fae7",
   "metadata": {},
   "source": [
    "df_neu_median = df_neu.replace(np.nan, df_neu.median()) \n",
    "df_neu_median  "
   ]
  },
  {
   "cell_type": "markdown",
   "id": "c6bfbaae",
   "metadata": {},
   "source": [
    "##### mode bulma ve mod ile doldurma"
   ]
  },
  {
   "cell_type": "raw",
   "id": "58bf3f00",
   "metadata": {},
   "source": [
    "# ilk asama (Bodystyle nin sedan oldugu durumda Seats sütununun aldigi degerler)\n",
    "\n",
    "df_autos.loc[(df_autos['BodyStyle']=='Sedan'), 'Seats'].value_counts()   "
   ]
  },
  {
   "cell_type": "raw",
   "id": "c5c95f2d",
   "metadata": {},
   "source": [
    "# ikinci asama (Bodystyle nin sedan oldugu durumda Seats'in aldigi  en yüksek deger/mode)\n",
    "\n",
    "df_autos.loc[(df_autos['BodyStyle']=='Sedan'), 'Seats'].value_counts().idxmax()"
   ]
  },
  {
   "cell_type": "code",
   "execution_count": null,
   "id": "8cb684e3",
   "metadata": {},
   "outputs": [],
   "source": [
    "Asagidaki kisimda farkli bir uygulamasi"
   ]
  },
  {
   "cell_type": "code",
   "execution_count": null,
   "id": "8a60a460",
   "metadata": {},
   "outputs": [],
   "source": [
    "# once en fazla tekrar eden degeri yani modu bulalim ve onu bir degere atayalim\n",
    "mode_df_spalte = df[\"PlugType\"].value_counts().idxmax()\n",
    "\n",
    "#daha sonra ilgili sütundaki herhangi bir degeri yeni degerle replace edelim\n",
    "\n",
    "df_merge[\"PlugType\"].replace({\"missing_type\":mode_plugtype}, inplace=True)"
   ]
  },
  {
   "cell_type": "code",
   "execution_count": null,
   "id": "7bfba874",
   "metadata": {},
   "outputs": [],
   "source": [
    "for i in list_bs_un:\n",
    "    tMask  = df_merge.BodyStyle ==i\n",
    "    df_merge.loc[tMask,\"Seats\"] = df_merge.loc[tMask,\"Seats\"].value_counts().idxmax()\n",
    "pd.unique(df_merge.Seats)"
   ]
  },
  {
   "cell_type": "code",
   "execution_count": null,
   "id": "21dbc495",
   "metadata": {},
   "outputs": [],
   "source": []
  },
  {
   "cell_type": "code",
   "execution_count": null,
   "id": "3867796a",
   "metadata": {},
   "outputs": [],
   "source": [
    "types = df_autos.loc[(df_autos['Seats']=='?'), 'BodyStyle'].unique()\n",
    "\n",
    "frequencies = []\n",
    "\n",
    "for element in types:\n",
    "    frequence = df_autos.loc[(df_autos['BodyStyle']==element), 'Seats'].value_counts().idxmax()\n",
    "    frequencies.append((element,frequence))"
   ]
  },
  {
   "cell_type": "raw",
   "id": "a5ffc9a8",
   "metadata": {},
   "source": []
  },
  {
   "cell_type": "markdown",
   "id": "a1be6ab8",
   "metadata": {},
   "source": [
    "#### sns_dataset"
   ]
  },
  {
   "cell_type": "raw",
   "id": "005bf5af",
   "metadata": {},
   "source": [
    "import seaborn as sns\n",
    "\n",
    "df = sns.load_dataset('penguins')"
   ]
  },
  {
   "cell_type": "markdown",
   "id": "ceae1057",
   "metadata": {},
   "source": [
    "#### sütunda sayi olmayan girislerin bulunmasi"
   ]
  },
  {
   "cell_type": "raw",
   "id": "f7534d5a",
   "metadata": {},
   "source": [
    "ziffern =[f'{i}' for i in range(10)]\n",
    "muster = '|'.join(ziffern)\n",
    "\n",
    "mask = df.mpg.str.contains(muster)\n",
    "\n",
    "df.loc[~mask,:]\n",
    "\n",
    "\n",
    "~ haricleri al diye kullaniyoruz\n"
   ]
  },
  {
   "cell_type": "markdown",
   "id": "b97a8657",
   "metadata": {},
   "source": [
    "#### sütunda sayi olmayanlari NaN yap"
   ]
  },
  {
   "cell_type": "raw",
   "id": "d373059f",
   "metadata": {},
   "source": [
    "df[\"mpg\"] = pd.to_numeric(df.mpg, errors='coerce')"
   ]
  },
  {
   "cell_type": "raw",
   "id": "1cca2282",
   "metadata": {},
   "source": [
    "print(f'Anzahl missing values: {df.mpg.isnull().sum()}')\n",
    "print(f'Neuer Datentyp :{df.mpg.dtype}')"
   ]
  },
  {
   "cell_type": "markdown",
   "id": "1995f21b",
   "metadata": {},
   "source": [
    "#### .cut() ve kategoriye ayirma"
   ]
  },
  {
   "cell_type": "raw",
   "id": "46e3a856",
   "metadata": {},
   "source": [
    "# df_titanic['bins'] = pd.cut(x=df_titanic['age'], bins=[0, 6, 18, 45,\n",
    "                                          70, 110], labels=['<6', '7 - 18', '19 - 45',\n",
    "                            '46 - 70', '71 - 100'])"
   ]
  },
  {
   "cell_type": "raw",
   "id": "d7e7c307",
   "metadata": {},
   "source": [
    "kategorie = [\"billig\", \"normal\",\"teuer\", \"sehr teuer\"]\n",
    "\n",
    "max = df_autos[\"PriceEuro\"].max()\n",
    "percentile_25 = np.percentile(df_autos[\"PriceEuro\"],25)\n",
    "percentile_50 = np.percentile(df_autos[\"PriceEuro\"],50)\n",
    "percentile_75 = np.percentile(df_autos[\"PriceEuro\"],75)\n",
    "\n",
    "x = percentile_75 + 1.5 * (percentile_75-percentile_25)\n",
    "\n",
    "bins = [0, percentile_25, percentile_50, x, max]\n",
    "\n",
    "df_autos[\"PriceCat\"] = pd.cut(df_autos[\"PriceEuro\"], bins=bins, labels=kategorie)"
   ]
  },
  {
   "cell_type": "markdown",
   "id": "194c3cc4",
   "metadata": {},
   "source": [
    "#### .groupby()"
   ]
  },
  {
   "cell_type": "raw",
   "id": "9028fe0e",
   "metadata": {},
   "source": [
    "df_hafen = df_titanic.groupby([\"embark_town\",\"who\"],as_index=False).agg(anzahl=('who','size'))"
   ]
  },
  {
   "cell_type": "raw",
   "id": "773a45ca",
   "metadata": {},
   "source": [
    "df_sex = df_titanic.groupby(['sex']).size() # cinsiyete göre ANZAHL"
   ]
  },
  {
   "cell_type": "raw",
   "id": "2c4c0dd0",
   "metadata": {},
   "source": [
    "df_who = df_titanic.groupby([\"who\"]).agg({'who':'size'})"
   ]
  },
  {
   "cell_type": "markdown",
   "id": "72b4e7e3",
   "metadata": {},
   "source": [
    "#### .str .split()"
   ]
  },
  {
   "cell_type": "code",
   "execution_count": null,
   "id": "8301d5b2",
   "metadata": {},
   "outputs": [],
   "source": [
    "df_merge[\"Brand\"] = df_merge[\"Brand\"].str.lstrip(\" \").str.rstrip(\" \")  # leerzeichen löschen"
   ]
  },
  {
   "cell_type": "markdown",
   "id": "9bc14faa",
   "metadata": {},
   "source": [
    "#### sütun bazinda nunique() sayisi"
   ]
  },
  {
   "cell_type": "code",
   "execution_count": null,
   "id": "d2770696",
   "metadata": {},
   "outputs": [],
   "source": [
    "liste =df_merge.select_dtypes(\"object\").columns\n",
    "\n",
    "for spalte in liste:\n",
    "    print(spalte, df_merge.loc[:,spalte].nunique())\n",
    "    \n",
    "print(i)"
   ]
  },
  {
   "cell_type": "markdown",
   "id": "70a24e62",
   "metadata": {},
   "source": [
    "#### duplicated"
   ]
  },
  {
   "cell_type": "raw",
   "id": "ed1516a2",
   "metadata": {},
   "source": [
    "df.loc[df['Model'].duplicated()==True,:]"
   ]
  },
  {
   "cell_type": "markdown",
   "id": "fa8fd214",
   "metadata": {},
   "source": [
    "#### Sütunlarin data tipi ve unique degerleri"
   ]
  },
  {
   "cell_type": "code",
   "execution_count": null,
   "id": "04506295",
   "metadata": {},
   "outputs": [],
   "source": [
    "df_types = pd.concat([df.dtypes, df.nunique()], axis=1).rename(columns={0:\"dtypes\",1:\"unique\"})\n",
    "df_types"
   ]
  },
  {
   "cell_type": "markdown",
   "id": "698ddb2d",
   "metadata": {},
   "source": [
    "#### Sütunlarin int, float, obj olarak data tiplerini gösteren liste"
   ]
  },
  {
   "cell_type": "raw",
   "id": "659fd95d",
   "metadata": {},
   "source": [
    "float_columns = []\n",
    "int_columns = []\n",
    "obj_columns = []\n",
    "\n",
    "for i, elem in enumerate(df.dtypes):\n",
    "    column = df.dtypes.index[i]  \n",
    "    if elem==\"float64\":\n",
    "        float_columns.append(column)\n",
    "    if (elem ==\"int64\") | (elem ==\"int32\"):\n",
    "        int_columns.append(column)\n",
    "    if elem ==\"object\":\n",
    "        obj_columns.append(column)\n",
    "    \n",
    "obj_columns   "
   ]
  },
  {
   "cell_type": "markdown",
   "id": "f9c5dbf6",
   "metadata": {},
   "source": [
    "#### speicherplatz reduzieren"
   ]
  },
  {
   "cell_type": "code",
   "execution_count": null,
   "id": "d79c926c",
   "metadata": {},
   "outputs": [],
   "source": []
  },
  {
   "cell_type": "code",
   "execution_count": null,
   "id": "ee683a83",
   "metadata": {},
   "outputs": [],
   "source": [
    "df.dtypes\n",
    "df.species.nunique() \n",
    "df.memory_usage(deep=True) "
   ]
  },
  {
   "cell_type": "markdown",
   "id": "a9ff65a2",
   "metadata": {},
   "source": [
    "#### sütundaki verilerin data tipinin integer olup olmadiginin kontrolü"
   ]
  },
  {
   "cell_type": "code",
   "execution_count": null,
   "id": "6ac0435f",
   "metadata": {},
   "outputs": [],
   "source": [
    "# önce tüm satirlarin gercekten integer olup olmadigi"
   ]
  },
  {
   "cell_type": "raw",
   "id": "eedf4d6a",
   "metadata": {},
   "source": [
    "for number in df_ecar['FastCharge_KmH']:\n",
    "    if number %1 != 0:                        # ist der Restwert nicht Null, dann liegt ein float vor\n",
    "        print('do not convert to integer')\n",
    "print('finished')"
   ]
  },
  {
   "cell_type": "markdown",
   "id": "c3aeb66c",
   "metadata": {},
   "source": [
    "#### float verinin integera cevrilmesi"
   ]
  },
  {
   "cell_type": "raw",
   "id": "b7e07d33",
   "metadata": {},
   "source": [
    "df_ecar['FastCharge_KmH'] = pd.to_numeric(df_ecar['FastCharge_KmH'], downcast='integer')"
   ]
  },
  {
   "cell_type": "markdown",
   "id": "ac590aee",
   "metadata": {},
   "source": [
    "#### csv'ye Kaydetme"
   ]
  },
  {
   "cell_type": "code",
   "execution_count": null,
   "id": "6a6316f5",
   "metadata": {},
   "outputs": [],
   "source": [
    "df_ecar_opti.to_csv('ecar_after_preprocessing.csv',sep=',')"
   ]
  },
  {
   "cell_type": "markdown",
   "id": "9d1f1f1f",
   "metadata": {},
   "source": [
    "#### Pickle a kaydetme"
   ]
  },
  {
   "cell_type": "code",
   "execution_count": null,
   "id": "915da90f",
   "metadata": {},
   "outputs": [],
   "source": [
    "df_ecar_opti.to_pickle('ecar_after_preprocessing.pkl')"
   ]
  }
 ],
 "metadata": {
  "kernelspec": {
   "display_name": "Python 3",
   "language": "python",
   "name": "python3"
  },
  "language_info": {
   "codemirror_mode": {
    "name": "ipython",
    "version": 3
   },
   "file_extension": ".py",
   "mimetype": "text/x-python",
   "name": "python",
   "nbconvert_exporter": "python",
   "pygments_lexer": "ipython3",
   "version": "3.8.8"
  },
  "nbTranslate": {
   "displayLangs": [
    "*"
   ],
   "hotkey": "alt-t",
   "langInMainMenu": true,
   "sourceLang": "en",
   "targetLang": "fr",
   "useGoogleTranslate": true
  },
  "toc": {
   "base_numbering": 1,
   "nav_menu": {},
   "number_sections": true,
   "sideBar": true,
   "skip_h1_title": false,
   "title_cell": "Table of Contents",
   "title_sidebar": "Contents",
   "toc_cell": false,
   "toc_position": {
    "height": "calc(100% - 180px)",
    "left": "10px",
    "top": "150px",
    "width": "400.263px"
   },
   "toc_section_display": true,
   "toc_window_display": true
  }
 },
 "nbformat": 4,
 "nbformat_minor": 5
}
